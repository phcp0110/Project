{
 "cells": [
  {
   "cell_type": "code",
   "execution_count": null,
   "id": "63da49a0",
   "metadata": {},
   "outputs": [],
   "source": [
    "from deepmol.loaders import CSVLoader\n",
    "import pandas as pd\n",
    "import numpy as np\n",
    "\n",
    "# Load data from CSV file\n",
    "loader = CSVLoader(dataset_path='amostras_30000.csv',\n",
    "                   smiles_field='smiles',\n",
    "                   id_field='ids',\n",
    "                   mode='auto', shard_size=30000)\n",
    "# create the dataset\n",
    "csv_dataset = loader.create_dataset(sep=',', header=0)"
   ]
  },
  {
   "cell_type": "code",
   "execution_count": 7,
   "id": "1260ad85",
   "metadata": {},
   "outputs": [],
   "source": [
    "\n",
    "df = pd.read_csv(\"integrated_dataset.csv\")\n",
    "amostras = df.sample(n=30000, random_state=42)\n"
   ]
  },
  {
   "cell_type": "code",
   "execution_count": 8,
   "id": "301b6a91",
   "metadata": {},
   "outputs": [],
   "source": [
    "amostras.to_csv(\"amostras_30000.csv\", index=False)\n"
   ]
  },
  {
   "cell_type": "markdown",
   "id": "d647c694",
   "metadata": {},
   "source": [
    "# NP Classifier\n"
   ]
  },
  {
   "cell_type": "code",
   "execution_count": 9,
   "id": "0d55300f",
   "metadata": {},
   "outputs": [
    {
     "name": "stderr",
     "output_type": "stream",
     "text": [
      "NPClassifierFP: 100%|██████████| 1000/1000 [00:03<00:00, 268.86it/s]\n"
     ]
    }
   ],
   "source": [
    "from deepmol.compound_featurization import NPClassifierFP\n",
    "\n",
    "NPClassifierFP(n_jobs=10).featurize(csv_dataset, inplace=True)"
   ]
  },
  {
   "cell_type": "code",
   "execution_count": 10,
   "id": "0c532ffa",
   "metadata": {},
   "outputs": [
    {
     "data": {
      "text/plain": [
       "(1000, 6144)"
      ]
     },
     "execution_count": 10,
     "metadata": {},
     "output_type": "execute_result"
    }
   ],
   "source": [
    "csv_dataset.X.shape"
   ]
  },
  {
   "cell_type": "code",
   "execution_count": 11,
   "id": "00dbc8f8",
   "metadata": {},
   "outputs": [
    {
     "data": {
      "text/plain": [
       "array([0., 0., 0., ..., 0., 0., 0.])"
      ]
     },
     "execution_count": 11,
     "metadata": {},
     "output_type": "execute_result"
    }
   ],
   "source": [
    "csv_dataset.X[0]"
   ]
  },
  {
   "cell_type": "code",
   "execution_count": 12,
   "id": "9bd36fc4",
   "metadata": {},
   "outputs": [
    {
     "data": {
      "text/plain": [
       "(array([0., 1., 2., 4., 5., 6., 8.]),\n",
       " array([6113,   23,    4,    1,    1,    1,    1]))"
      ]
     },
     "execution_count": 12,
     "metadata": {},
     "output_type": "execute_result"
    }
   ],
   "source": [
    "np.unique(csv_dataset.X[0], return_counts=True)"
   ]
  },
  {
   "cell_type": "markdown",
   "id": "597fe2d3",
   "metadata": {},
   "source": [
    "# Biosynfoni"
   ]
  },
  {
   "cell_type": "code",
   "execution_count": 13,
   "id": "265732e5",
   "metadata": {},
   "outputs": [
    {
     "name": "stderr",
     "output_type": "stream",
     "text": [
      "BiosynfoniKeys: 100%|██████████| 1000/1000 [00:04<00:00, 240.08it/s]\n"
     ]
    }
   ],
   "source": [
    "from deepmol.compound_featurization import BiosynfoniKeys\n",
    "\n",
    "BiosynfoniKeys(n_jobs=10).featurize(csv_dataset, inplace=True)"
   ]
  },
  {
   "cell_type": "code",
   "execution_count": 14,
   "id": "97661b07",
   "metadata": {},
   "outputs": [
    {
     "data": {
      "text/plain": [
       "(1000, 39)"
      ]
     },
     "execution_count": 14,
     "metadata": {},
     "output_type": "execute_result"
    }
   ],
   "source": [
    "csv_dataset.X.shape"
   ]
  },
  {
   "cell_type": "code",
   "execution_count": 15,
   "id": "f75934fe",
   "metadata": {},
   "outputs": [
    {
     "data": {
      "text/plain": [
       "array([ 0.,  0.,  0.,  0.,  0.,  0.,  0.,  0.,  0.,  0.,  0.,  0.,  0.,\n",
       "        0.,  0.,  0.,  7.,  7.,  0., 15.,  0.,  0.,  0.,  0.,  0.,  0.,\n",
       "        0.,  0.,  0.,  0.,  2.,  0.,  0.,  0.,  1.,  0.,  0.,  0.,  0.])"
      ]
     },
     "execution_count": 15,
     "metadata": {},
     "output_type": "execute_result"
    }
   ],
   "source": [
    "csv_dataset.X[0]"
   ]
  },
  {
   "cell_type": "code",
   "execution_count": 16,
   "id": "8dc51718",
   "metadata": {},
   "outputs": [
    {
     "data": {
      "text/plain": [
       "(array([ 0.,  1.,  2.,  7., 15.]), array([34,  1,  1,  2,  1]))"
      ]
     },
     "execution_count": 16,
     "metadata": {},
     "output_type": "execute_result"
    }
   ],
   "source": [
    "np.unique(csv_dataset.X[0], return_counts=True)"
   ]
  },
  {
   "cell_type": "markdown",
   "id": "ac3f690e",
   "metadata": {},
   "source": [
    "# Neural NPFP"
   ]
  },
  {
   "cell_type": "code",
   "execution_count": 17,
   "id": "a3f2dafd",
   "metadata": {},
   "outputs": [
    {
     "name": "stderr",
     "output_type": "stream",
     "text": [
      "/home/ppereira/miniforge3/envs/Project/lib/python3.11/site-packages/deepmol/compound_featurization/neural_npfp_generator.py:45: FutureWarning: You are using `torch.load` with `weights_only=False` (the current default value), which uses the default pickle module implicitly. It is possible to construct malicious pickle data which will execute arbitrary code during unpickling (See https://github.com/pytorch/pytorch/blob/main/SECURITY.md#untrusted-models for more details). In a future release, the default value for `weights_only` will be flipped to `True`. This limits the functions that could be executed during unpickling. Arbitrary objects will no longer be allowed to be loaded via this mode unless they are explicitly allowlisted by the user via `torch.serialization.add_safe_globals`. We recommend you start setting `weights_only=True` for any use case where you don't have full control of the loaded file. Please open an issue on GitHub for any issues related to this experimental feature.\n",
      "  torch.load(os.path.join(FILE_PATH, \"neural_npfp\", \"aux_cv0.pt\"), map_location=torch.device(\"cpu\")))\n",
      "NeuralNPFP: 100%|██████████| 1000/1000 [00:13<00:00, 74.09it/s]\n"
     ]
    }
   ],
   "source": [
    "from deepmol.compound_featurization import NeuralNPFP\n",
    "\n",
    "NeuralNPFP(n_jobs=10).featurize(csv_dataset, inplace=True)"
   ]
  },
  {
   "cell_type": "code",
   "execution_count": 18,
   "id": "dac25c94",
   "metadata": {},
   "outputs": [
    {
     "data": {
      "text/plain": [
       "(1000, 64)"
      ]
     },
     "execution_count": 18,
     "metadata": {},
     "output_type": "execute_result"
    }
   ],
   "source": [
    "csv_dataset.X.shape"
   ]
  },
  {
   "cell_type": "code",
   "execution_count": 19,
   "id": "391b200a",
   "metadata": {},
   "outputs": [
    {
     "data": {
      "text/plain": [
       "array([ 1.79865444, -0.38216534, -0.58133483,  0.84097785, -0.90925723,\n",
       "        0.00373932, -0.57877487, -0.07979538,  0.41178492, -0.24592015,\n",
       "        0.13941336,  0.4220345 , -0.15356773, -0.66471839, -0.06550309,\n",
       "       -0.96144319,  1.83286333,  0.41947526, -0.517425  ,  1.15236449,\n",
       "       -0.34660605, -0.16380218, -0.14085226,  0.26319727, -1.62413156,\n",
       "        0.44363612, -0.55607295, -0.09638085,  0.14341408, -0.37575382,\n",
       "        0.61666298, -1.30696738,  0.05348182, -0.20046403, -0.15427329,\n",
       "        0.44557595,  0.45907214,  0.22672892, -0.40323848, -0.47708982,\n",
       "        0.10386741, -0.51831704, -0.71309626,  1.42534196,  0.23540048,\n",
       "       -0.64916819, -0.68166667,  0.11051789,  0.2378764 ,  0.11404718,\n",
       "        0.05633458,  0.19753076, -1.30279672,  1.6385498 ,  0.21760675,\n",
       "        0.79570609, -0.00873287, -0.15485579, -0.11128737, -1.72897232,\n",
       "       -0.77224118,  0.11441799, -0.08833443, -0.53465378])"
      ]
     },
     "execution_count": 19,
     "metadata": {},
     "output_type": "execute_result"
    }
   ],
   "source": [
    "csv_dataset.X[0]"
   ]
  },
  {
   "cell_type": "code",
   "execution_count": 20,
   "id": "6024589a",
   "metadata": {},
   "outputs": [
    {
     "data": {
      "text/plain": [
       "(array([-1.72897232, -1.62413156, -1.30696738, -1.30279672, -0.96144319,\n",
       "        -0.90925723, -0.77224118, -0.71309626, -0.68166667, -0.66471839,\n",
       "        -0.64916819, -0.58133483, -0.57877487, -0.55607295, -0.53465378,\n",
       "        -0.51831704, -0.517425  , -0.47708982, -0.40323848, -0.38216534,\n",
       "        -0.37575382, -0.34660605, -0.24592015, -0.20046403, -0.16380218,\n",
       "        -0.15485579, -0.15427329, -0.15356773, -0.14085226, -0.11128737,\n",
       "        -0.09638085, -0.08833443, -0.07979538, -0.06550309, -0.00873287,\n",
       "         0.00373932,  0.05348182,  0.05633458,  0.10386741,  0.11051789,\n",
       "         0.11404718,  0.11441799,  0.13941336,  0.14341408,  0.19753076,\n",
       "         0.21760675,  0.22672892,  0.23540048,  0.2378764 ,  0.26319727,\n",
       "         0.41178492,  0.41947526,  0.4220345 ,  0.44363612,  0.44557595,\n",
       "         0.45907214,  0.61666298,  0.79570609,  0.84097785,  1.15236449,\n",
       "         1.42534196,  1.6385498 ,  1.79865444,  1.83286333]),\n",
       " array([1, 1, 1, 1, 1, 1, 1, 1, 1, 1, 1, 1, 1, 1, 1, 1, 1, 1, 1, 1, 1, 1,\n",
       "        1, 1, 1, 1, 1, 1, 1, 1, 1, 1, 1, 1, 1, 1, 1, 1, 1, 1, 1, 1, 1, 1,\n",
       "        1, 1, 1, 1, 1, 1, 1, 1, 1, 1, 1, 1, 1, 1, 1, 1, 1, 1, 1, 1]))"
      ]
     },
     "execution_count": 20,
     "metadata": {},
     "output_type": "execute_result"
    }
   ],
   "source": [
    "np.unique(csv_dataset.X[0], return_counts=True)"
   ]
  },
  {
   "cell_type": "markdown",
   "id": "995c01ad",
   "metadata": {},
   "source": [
    "# MHFP"
   ]
  },
  {
   "cell_type": "code",
   "execution_count": 21,
   "id": "6c160af1",
   "metadata": {},
   "outputs": [],
   "source": [
    "from deepmol.compound_featurization import MHFP"
   ]
  },
  {
   "cell_type": "code",
   "execution_count": 22,
   "id": "61bfefd2",
   "metadata": {},
   "outputs": [
    {
     "data": {
      "text/plain": [
       "(1000, 64)"
      ]
     },
     "execution_count": 22,
     "metadata": {},
     "output_type": "execute_result"
    }
   ],
   "source": [
    "csv_dataset.X.shape"
   ]
  },
  {
   "cell_type": "code",
   "execution_count": 23,
   "id": "96c7da4e",
   "metadata": {},
   "outputs": [
    {
     "data": {
      "text/plain": [
       "array([ 1.79865444, -0.38216534, -0.58133483,  0.84097785, -0.90925723,\n",
       "        0.00373932, -0.57877487, -0.07979538,  0.41178492, -0.24592015,\n",
       "        0.13941336,  0.4220345 , -0.15356773, -0.66471839, -0.06550309,\n",
       "       -0.96144319,  1.83286333,  0.41947526, -0.517425  ,  1.15236449,\n",
       "       -0.34660605, -0.16380218, -0.14085226,  0.26319727, -1.62413156,\n",
       "        0.44363612, -0.55607295, -0.09638085,  0.14341408, -0.37575382,\n",
       "        0.61666298, -1.30696738,  0.05348182, -0.20046403, -0.15427329,\n",
       "        0.44557595,  0.45907214,  0.22672892, -0.40323848, -0.47708982,\n",
       "        0.10386741, -0.51831704, -0.71309626,  1.42534196,  0.23540048,\n",
       "       -0.64916819, -0.68166667,  0.11051789,  0.2378764 ,  0.11404718,\n",
       "        0.05633458,  0.19753076, -1.30279672,  1.6385498 ,  0.21760675,\n",
       "        0.79570609, -0.00873287, -0.15485579, -0.11128737, -1.72897232,\n",
       "       -0.77224118,  0.11441799, -0.08833443, -0.53465378])"
      ]
     },
     "execution_count": 23,
     "metadata": {},
     "output_type": "execute_result"
    }
   ],
   "source": [
    "csv_dataset.X[0]"
   ]
  },
  {
   "cell_type": "code",
   "execution_count": 24,
   "id": "73dd51dc",
   "metadata": {},
   "outputs": [
    {
     "ename": "TypeError",
     "evalue": "'SmilesDataset' object is not subscriptable",
     "output_type": "error",
     "traceback": [
      "\u001b[31m---------------------------------------------------------------------------\u001b[39m",
      "\u001b[31mTypeError\u001b[39m                                 Traceback (most recent call last)",
      "\u001b[36mCell\u001b[39m\u001b[36m \u001b[39m\u001b[32mIn[24]\u001b[39m\u001b[32m, line 1\u001b[39m\n\u001b[32m----> \u001b[39m\u001b[32m1\u001b[39m np.unique(\u001b[43mcsv_dataset\u001b[49m\u001b[43m[\u001b[49m\u001b[32;43m0\u001b[39;49m\u001b[43m]\u001b[49m, return_counts=\u001b[38;5;28;01mTrue\u001b[39;00m)\n",
      "\u001b[31mTypeError\u001b[39m: 'SmilesDataset' object is not subscriptable"
     ]
    }
   ],
   "source": [
    "np.unique(csv_dataset[0], return_counts=True)"
   ]
  },
  {
   "cell_type": "markdown",
   "id": "b0a6aa28",
   "metadata": {},
   "source": [
    "# Morgan Fingerprint"
   ]
  },
  {
   "cell_type": "code",
   "execution_count": null,
   "id": "ba9a0e1e",
   "metadata": {},
   "outputs": [
    {
     "name": "stderr",
     "output_type": "stream",
     "text": [
      "MorganFingerprint: 100%|██████████| 1000/1000 [00:03<00:00, 288.85it/s]\n"
     ]
    }
   ],
   "source": [
    "from deepmol.compound_featurization import  MorganFingerprint\n",
    "\n",
    "MorganFingerprint(n_jobs=10).featurize(csv_dataset, inplace=True)\n"
   ]
  },
  {
   "cell_type": "code",
   "execution_count": null,
   "id": "233faf57",
   "metadata": {},
   "outputs": [
    {
     "data": {
      "text/plain": [
       "(1000, 2048)"
      ]
     },
     "execution_count": 10,
     "metadata": {},
     "output_type": "execute_result"
    }
   ],
   "source": [
    "csv_dataset.X.shape\n"
   ]
  },
  {
   "cell_type": "code",
   "execution_count": null,
   "id": "3d9e751a",
   "metadata": {},
   "outputs": [
    {
     "data": {
      "text/plain": [
       "array([0., 0., 0., ..., 0., 0., 0.])"
      ]
     },
     "execution_count": 11,
     "metadata": {},
     "output_type": "execute_result"
    }
   ],
   "source": [
    "csv_dataset.X[0]\n"
   ]
  },
  {
   "cell_type": "code",
   "execution_count": null,
   "id": "687af43c",
   "metadata": {},
   "outputs": [
    {
     "data": {
      "text/plain": [
       "(array([0., 1.]), array([2011,   37]))"
      ]
     },
     "execution_count": 12,
     "metadata": {},
     "output_type": "execute_result"
    }
   ],
   "source": [
    "np.unique(csv_dataset.X[0], return_counts=True)"
   ]
  },
  {
   "cell_type": "markdown",
   "id": "c30e8ebc",
   "metadata": {},
   "source": [
    "# Compute similarities for 1000 samples (just for testing the workflow)"
   ]
  },
  {
   "cell_type": "code",
   "execution_count": null,
   "id": "129ab6f6",
   "metadata": {},
   "outputs": [],
   "source": [
    " \n",
    "from tqdm import tqdm\n",
    "\n",
    "\n",
    "def manhattan_similarity(x, y):\n",
    "    \"\"\"\n",
    "    Compute Manhattan similarity between two vectors.\n",
    "    Parameters:\n",
    "        x, y : array-like\n",
    "            Input vectors (must be the same length).\n",
    "    Returns:\n",
    "        float : Similarity score.\n",
    "    \"\"\"\n",
    "    x = np.array(x)\n",
    "    y = np.array(y)\n",
    " \n",
    "    distance = np.sum(np.abs(x - y))\n",
    " \n",
    "    return distance\n",
    "\n",
    "def compute_all_similarities(dataset):\n",
    "    \"\"\"\n",
    "    Compute all pairwise similarities in the dataset.\n",
    "    Parameters:\n",
    "        dataset : list of lists\n",
    "            Each inner list represents a sample.\n",
    "    Returns:\n",
    "        list of tuples : Each tuple contains two indices and their similarity score.\n",
    "    \"\"\"\n",
    "    fp = dataset.X.copy()\n",
    "\n",
    "    # Preallocate vector of correct size\n",
    "    n_samples = fp.shape[0]\n",
    "    n_comps = int((n_samples ** 2 - n_samples) / 2)\n",
    "    similarity = np.zeros((1, n_comps,), dtype=np.float32)\n",
    "\n",
    "    # Start pairwise similarity counter\n",
    "    count = 0\n",
    "\n",
    "    # Loop over all unique pairs (skip redundant comparisons)\n",
    "    for i in tqdm(range(n_samples - 1), desc=\"Computing similarities\"):\n",
    "        for j in range(i + 1, n_samples):\n",
    "            # Calculate similarity as 1 - Jaccard distance\n",
    "            similarity[0, count] = manhattan_similarity(fp[i, :], fp[j, :])\n",
    "            count += 1\n",
    "\n",
    "    return similarity\n",
    "\n",
    "def normalize_similarity_matrix(similarity_matrix):\n",
    "    \"\"\"\n",
    "    Normalize the similarity matrix to a range of [0, 1].\n",
    "    Parameters:\n",
    "        similarity_matrix : numpy array\n",
    "            The similarity matrix to normalize.\n",
    "    Returns:\n",
    "        numpy array : Normalized similarity matrix.\n",
    "    \"\"\"\n",
    "    max_val = np.max(similarity_matrix)\n",
    " \n",
    "    normalized_matrix = 1 - (similarity_matrix / max_val)\n",
    " \n",
    "    return normalized_matrix"
   ]
  },
  {
   "cell_type": "markdown",
   "id": "2ecda2c8",
   "metadata": {},
   "source": [
    "# Biosynfoni"
   ]
  },
  {
   "cell_type": "code",
   "execution_count": null,
   "id": "b734e545",
   "metadata": {},
   "outputs": [
    {
     "name": "stderr",
     "output_type": "stream",
     "text": [
      "BiosynfoniKeys: 100%|██████████| 1000/1000 [00:08<00:00, 124.66it/s]\n",
      "Computing similarities: 100%|██████████| 999/999 [00:07<00:00, 137.14it/s]\n"
     ]
    },
    {
     "data": {
      "text/plain": [
       "array([[0.92505854, 0.59016395, 0.93442625, ..., 0.90163934, 0.765808  ,\n",
       "        0.7330211 ]], dtype=float32)"
      ]
     },
     "execution_count": 10,
     "metadata": {},
     "output_type": "execute_result"
    }
   ],
   "source": [
    "# EXEMPLO com biosynfoni\n",
    "from deepmol.compound_featurization import BiosynfoniKeys\n",
    "\n",
    "BiosynfoniKeys(n_jobs=10).featurize(csv_dataset, inplace=True)\n",
    "\n",
    "similarities_biosynfoni = compute_all_similarities(csv_dataset)\n",
    "similarities_biosynfoni = normalize_similarity_matrix(similarities_biosynfoni)\n",
    "similarities_biosynfoni"
   ]
  },
  {
   "cell_type": "code",
   "execution_count": null,
   "id": "f6402606",
   "metadata": {},
   "outputs": [
    {
     "name": "stderr",
     "output_type": "stream",
     "text": [
      "BiosynfoniKeys: 100%|██████████| 1000/1000 [00:02<00:00, 467.58it/s]\n",
      "Computing similarities: 100%|██████████| 999/999 [00:05<00:00, 167.92it/s]\n"
     ]
    },
    {
     "data": {
      "text/plain": [
       "array([[0.92505854, 0.59016395, 0.93442625, ..., 0.90163934, 0.765808  ,\n",
       "        0.7330211 ]], dtype=float32)"
      ]
     },
     "execution_count": 16,
     "metadata": {},
     "output_type": "execute_result"
    }
   ],
   "source": [
    "# EXEMPLO com biosynfoni\n",
    "from deepmol.compound_featurization import NPClassifierFP\n",
    "\n",
    "BiosynfoniKeys(n_jobs=10).featurize(csv_dataset, inplace=True)\n",
    "\n",
    "similarities_biosynfoni = compute_all_similarities(csv_dataset)\n",
    "similarities_biosynfoni = normalize_similarity_matrix(similarities_biosynfoni)\n",
    "similarities_biosynfoni"
   ]
  },
  {
   "cell_type": "code",
   "execution_count": null,
   "id": "491b48e3",
   "metadata": {},
   "outputs": [
    {
     "name": "stderr",
     "output_type": "stream",
     "text": [
      "MorganFingerprint: 100%|██████████| 1000/1000 [00:03<00:00, 298.33it/s]\n",
      "Computing similarities: 100%|██████████| 999/999 [00:09<00:00, 106.14it/s]\n"
     ]
    },
    {
     "data": {
      "text/plain": [
       "array([[0.7644628 , 0.6487603 , 0.7644628 , ..., 0.4876033 , 0.5578512 ,\n",
       "        0.42561984]], dtype=float32)"
      ]
     },
     "execution_count": 62,
     "metadata": {},
     "output_type": "execute_result"
    }
   ],
   "source": [
    "# EXEMPLO com biosynfoni\n",
    "from deepmol.compound_featurization import BiosynfoniKeys, MorganFingerprint\n",
    "\n",
    "MorganFingerprint(n_jobs=10).featurize(csv_dataset, inplace=True)\n",
    "\n",
    "similarities_morgan = compute_all_similarities(csv_dataset)\n",
    "similarities_morgan = normalize_similarity_matrix(similarities_morgan)\n",
    "similarities_morgan"
   ]
  },
  {
   "cell_type": "code",
   "execution_count": null,
   "id": "1bd17897",
   "metadata": {},
   "outputs": [
    {
     "name": "stderr",
     "output_type": "stream",
     "text": [
      "NeuralNPFP:   0%|          | 0/1000 [00:00<?, ?it/s]/home/jcapela/fingerprints_benchmark/DeepMol/src/deepmol/compound_featurization/neural_npfp_generator.py:82: UserWarning: Creating a tensor from a list of numpy.ndarrays is extremely slow. Please consider converting the list to a single numpy.ndarray with numpy.array() before converting to a tensor. (Triggered internally at /pytorch/torch/csrc/utils/tensor_new.cpp:254.)\n",
      "  fp = torch.tensor([fp], dtype=torch.float)\n",
      "NeuralNPFP: 100%|██████████| 1000/1000 [00:10<00:00, 93.56it/s]\n",
      "Computing similarities: 100%|██████████| 999/999 [00:06<00:00, 157.73it/s]\n"
     ]
    },
    {
     "data": {
      "text/plain": [
       "array([[0.8113003 , 0.8350232 , 0.8757656 , ..., 0.81942815, 0.7601334 ,\n",
       "        0.79340017]], dtype=float32)"
      ]
     },
     "execution_count": 66,
     "metadata": {},
     "output_type": "execute_result"
    }
   ],
   "source": [
    "# EXEMPLO com biosynfoni\n",
    "from deepmol.compound_featurization import BiosynfoniKeys, MorganFingerprint, NeuralNPFP\n",
    "\n",
    "NeuralNPFP(n_jobs=10).featurize(csv_dataset, inplace=True)\n",
    "\n",
    "similarities_neural_npfp = compute_all_similarities(csv_dataset)\n",
    "similarities_neural_npfp = normalize_similarity_matrix(similarities_neural_npfp)\n",
    "similarities_neural_npfp"
   ]
  },
  {
   "cell_type": "code",
   "execution_count": null,
   "id": "31b6af1f",
   "metadata": {},
   "outputs": [],
   "source": [
    "similarities = np.concatenate((similarities_biosynfoni, similarities_morgan, similarities_neural_npfp), axis=0)\n",
    "correlation_matrix = np.corrcoef(similarities)"
   ]
  },
  {
   "cell_type": "code",
   "execution_count": null,
   "id": "6eb2bf84",
   "metadata": {},
   "outputs": [
    {
     "data": {
      "text/plain": [
       "array([[1.        , 0.50183579, 0.47521117],\n",
       "       [0.50183579, 1.        , 0.47078816],\n",
       "       [0.47521117, 0.47078816, 1.        ]])"
      ]
     },
     "execution_count": 90,
     "metadata": {},
     "output_type": "execute_result"
    }
   ],
   "source": [
    "correlation_matrix"
   ]
  },
  {
   "cell_type": "code",
   "execution_count": null,
   "id": "14645e68",
   "metadata": {},
   "outputs": [
    {
     "data": {
      "image/png": "[encoded data removed]",
      "text/plain": [
       "<Figure size 1000x800 with 2 Axes>"
      ]
     },
     "metadata": {},
     "output_type": "display_data"
    }
   ],
   "source": [
    "# correlation matrix\n",
    "import seaborn as sns\n",
    "import matplotlib.pyplot as plt\n",
    "\n",
    "plt.figure(figsize=(10, 8))\n",
    "sns.heatmap(correlation_matrix, annot=True, fmt=\".2f\", cmap='coolwarm', cbar=True)\n",
    "plt.title('Correlation Matrix of Similarity Measures')\n",
    "plt.xlabel('Similarity Measures')\n",
    "plt.ylabel('Similarity Measures')\n",
    "plt.xticks(ticks=np.arange(3) + 0.5, labels=['Biosynfoni', 'Morgan', 'NeuralNPFP'], rotation=45)\n",
    "plt.yticks(ticks=np.arange(3) + 0.5, labels=['Biosynfoni', 'Morgan', 'NeuralNPFP'], rotation=45)\n",
    "plt.tight_layout()\n",
    "plt.show()"
   ]
  },
  {
   "cell_type": "markdown",
   "id": "6e881033",
   "metadata": {},
   "source": [
    "# Atualizações 16/5"
   ]
  },
  {
   "cell_type": "markdown",
   "id": "e695c428",
   "metadata": {},
   "source": [
    "exportar as FP"
   ]
  },
  {
   "cell_type": "code",
   "execution_count": 30,
   "id": "77efecc1",
   "metadata": {},
   "outputs": [],
   "source": [
    "import numpy as np\n",
    "import networkx as nx\n",
    "import matplotlib.pyplot as plt\n",
    "import pickle \n",
    "\n",
    "\n",
    "def generate_mst(similarities_matrix, labels):\n",
    "\n",
    "    # Step 2: Convert the Correlation Matrix to a Distance Matrix\n",
    "    distance_matrix = 1 - similarities_matrix\n",
    "\n",
    "    # Create a graph from the distance matrix\n",
    "    G = nx.Graph()\n",
    "    num_nodes = distance_matrix.shape[0]\n",
    "    for i in range(num_nodes):\n",
    "        for j in range(i + 1, num_nodes):\n",
    "            G.add_edge(i, j, weight=distance_matrix[i, j])\n",
    "\n",
    "    # Compute the minimum spanning tree without inversion\n",
    "    mst_without_inversion = nx.minimum_spanning_tree(G)\n",
    "\n",
    "    # Set the labels for the nodes in the graph\n",
    "    for node in mst_without_inversion.nodes():\n",
    "        if node in labels:\n",
    "            mst_without_inversion.nodes[node]['label'] = labels[node]\n",
    "        else:\n",
    "            mst_without_inversion.nodes[node]['label'] = str(node)\n",
    "\n",
    "    return mst_without_inversion"
   ]
  },
  {
   "cell_type": "code",
   "execution_count": 33,
   "id": "7b028f36",
   "metadata": {},
   "outputs": [],
   "source": [
    "def fingerprint_pipeline(dataset, fingerprints, labels, random_state=42):\n",
    "    \n",
    "    ''' \n",
    "dataset: \n",
    "fingerprints: lista de featurizes \n",
    "labels: dicionario com os métodos \n",
    "random_state: random seed \n",
    "\n",
    "'''\n",
    "    # Importações \n",
    "    import numpy as np\n",
    "\n",
    "    similarity_matrices = [] #Lista onde vamos guardar os vetores de similaridade\n",
    "    i=0\n",
    "    # Aplicar uma a uma asfingerprints ao dataset\n",
    "    for featurizer in fingerprints:\n",
    "        featurizer.featurize(dataset, inplace=True)\n",
    "        dataset.to_csv(f\"{featurizer.__class__.__name__}_fp.csv\")\n",
    "\n",
    "        # Seleciona aleatoriamente as moléculas a utilizar\n",
    "        np.random.seed(random_state)\n",
    "\n",
    "        similarities = compute_all_similarities(dataset) # Calcula todas as similaridades entre as moleculas \n",
    "        similarities = normalize_similarity_matrix(similarities) # Normaliza esses valores\n",
    "\n",
    "        similarity_matrices.append(similarities) # Guarda as similaridades de cada método\n",
    "\n",
    "    similarities = np.concatenate(similarity_matrices, axis=0) # Junta tudo numa matriz\n",
    "        \n",
    "    \n",
    "    correlation_matrix = np.corrcoef(similarities) # Calcula a correlation entre os métodos de fingerprint, quão semelhantes são os vetores gerados por cada método\n",
    "    with open(\"correlation_matrix.pkl\",\"wb\") as f:\n",
    "    \n",
    "        mst = generate_mst(similarities, labels) # Chama a função generate_mst que vai usar a correlation matrix para gerar a MST\n",
    "    \n",
    "    with open(\"similarities.pkl\", \"wb\") as f:\n",
    "        pickle.dump(similarities, f)\n",
    "\n",
    "\n",
    "    \n",
    "\n",
    "    \n",
    "\n",
    "    return correlation_matrix, mst\n",
    "\n",
    "    \n"
   ]
  },
  {
   "cell_type": "markdown",
   "id": "52f818fb",
   "metadata": {},
   "source": [
    "criar script com isto tudo para o dataset com os 300k "
   ]
  },
  {
   "cell_type": "code",
   "execution_count": null,
   "id": "5a93e39f",
   "metadata": {},
   "outputs": [],
   "source": []
  },
  {
   "cell_type": "code",
   "execution_count": 34,
   "id": "a6bf9c30",
   "metadata": {},
   "outputs": [
    {
     "name": "stderr",
     "output_type": "stream",
     "text": [
      "/home/ppereira/miniforge3/envs/Project/lib/python3.11/site-packages/deepmol/compound_featurization/neural_npfp_generator.py:45: FutureWarning: You are using `torch.load` with `weights_only=False` (the current default value), which uses the default pickle module implicitly. It is possible to construct malicious pickle data which will execute arbitrary code during unpickling (See https://github.com/pytorch/pytorch/blob/main/SECURITY.md#untrusted-models for more details). In a future release, the default value for `weights_only` will be flipped to `True`. This limits the functions that could be executed during unpickling. Arbitrary objects will no longer be allowed to be loaded via this mode unless they are explicitly allowlisted by the user via `torch.serialization.add_safe_globals`. We recommend you start setting `weights_only=True` for any use case where you don't have full control of the loaded file. Please open an issue on GitHub for any issues related to this experimental feature.\n",
      "  torch.load(os.path.join(FILE_PATH, \"neural_npfp\", \"aux_cv0.pt\"), map_location=torch.device(\"cpu\")))\n",
      "NPClassifierFP: 100%|██████████| 1000/1000 [00:02<00:00, 374.95it/s]\n",
      "Computing similarities: 100%|██████████| 999/999 [00:12<00:00, 77.40it/s] \n",
      "BiosynfoniKeys: 100%|██████████| 1000/1000 [00:01<00:00, 550.61it/s]\n",
      "Computing similarities: 100%|██████████| 999/999 [00:04<00:00, 234.67it/s]\n",
      "NeuralNPFP: 100%|██████████| 1000/1000 [00:05<00:00, 195.16it/s]\n",
      "Computing similarities: 100%|██████████| 999/999 [00:04<00:00, 241.64it/s]\n",
      "MHFP: 100%|██████████| 1000/1000 [00:19<00:00, 51.84it/s]\n",
      "Computing similarities: 100%|██████████| 999/999 [00:07<00:00, 140.36it/s]\n",
      "MorganFingerprint: 100%|██████████| 1000/1000 [00:02<00:00, 464.87it/s]\n",
      "Computing similarities: 100%|██████████| 999/999 [00:07<00:00, 133.23it/s]\n"
     ]
    }
   ],
   "source": [
    "from deepmol.compound_featurization import NPClassifierFP, BiosynfoniKeys, NeuralNPFP, MHFP, MorganFingerprint\n",
    "\n",
    "cor_matrix, mst = fingerprint_pipeline(\n",
    "    csv_dataset,                     # O dataset carregado com SMILES\n",
    "    fingerprints=[NPClassifierFP(), BiosynfoniKeys(), NeuralNPFP(), MHFP(), MorganFingerprint()],\n",
    "    labels={0: \"NPClassifierFP\",\n",
    "            1: \"BiosynfoniKeys\",\n",
    "            2: \"NeuralNPFP\",\n",
    "            3: \"MHFP\", \n",
    "            4: \"MorganFingerprint\"\n",
    "            }\n",
    ")\n",
    "\n",
    "# Compara diferentes formas de representar moléculas"
   ]
  },
  {
   "cell_type": "code",
   "execution_count": 35,
   "id": "14edadbb",
   "metadata": {},
   "outputs": [
    {
     "data": {
      "image/png": "[encoded data removed]",
      "text/plain": [
       "<Figure size 1500x1500 with 1 Axes>"
      ]
     },
     "metadata": {},
     "output_type": "display_data"
    }
   ],
   "source": [
    "# Draw the graphs\n",
    "pos_without = nx.spring_layout(mst, weight='weight', k=1.0, iterations=300)\n",
    "\n",
    "# Extract node labels\n",
    "node_labels_without = nx.get_node_attributes(mst, 'label')\n",
    "\n",
    "# Draw the graph without inversion\n",
    "plt.figure(figsize=(15, 15))\n",
    "plt.subplot(1, 2, 1)\n",
    "nx.draw(mst, pos_without, with_labels=True, labels=node_labels_without, node_color='lightblue', edge_color='gray')\n",
    "edge_labels_without = nx.get_edge_attributes(mst, 'weight')\n",
    "# nx.draw_networkx_edge_labels(mst, pos_without, edge_labels=edge_labels_without)\n",
    "plt.title(\"Minimum Spanning Tree\")\n",
    "\n",
    "# Draw the graph with inversion\n",
    "\n",
    "plt.show()"
   ]
  },
  {
   "cell_type": "code",
   "execution_count": 36,
   "id": "79b5cd8a",
   "metadata": {},
   "outputs": [
    {
     "data": {
      "image/png": "[encoded data removed]",
      "text/plain": [
       "<Figure size 1000x800 with 2 Axes>"
      ]
     },
     "metadata": {},
     "output_type": "display_data"
    }
   ],
   "source": [
    "# correlation matrix\n",
    "import seaborn as sns\n",
    "import matplotlib.pyplot as plt\n",
    "\n",
    "labels={0: \"NPClassifierFP\",\n",
    "            1: \"BiosynfoniKeys\",\n",
    "            2: \"NeuralNPFP\",\n",
    "            3: \"MHFP\", \n",
    "            4: \"MorganFingerprint\"\n",
    "            }\n",
    "\n",
    "plt.figure(figsize=(10, 8))\n",
    "sns.heatmap(cor_matrix, annot=True, fmt=\".2f\", cmap='coolwarm', cbar=True)\n",
    "plt.title('Correlation Matrix of Similarity Measures')\n",
    "plt.xlabel('Similarity Measures')\n",
    "plt.ylabel('Similarity Measures')\n",
    "plt.xticks(ticks=np.arange(5) + 0.5, labels=labels.values(), rotation=45)\n",
    "plt.yticks(ticks=np.arange(5) + 0.5, labels=labels.values(), rotation=45)\n",
    "plt.tight_layout()\n",
    "plt.show()"
   ]
  },
  {
   "cell_type": "markdown",
   "id": "cf22c11d",
   "metadata": {},
   "source": [
    "# 22/5"
   ]
  },
  {
   "cell_type": "markdown",
   "id": "71e62769",
   "metadata": {},
   "source": [
    "## Exportar o dataset"
   ]
  },
  {
   "cell_type": "code",
   "execution_count": null,
   "id": "9ed32692",
   "metadata": {},
   "outputs": [],
   "source": [
    "from deepmol.loaders import CSVLoader\n",
    "import pandas as pd\n",
    "import numpy as np\n",
    "\n",
    "# Load data from CSV file\n",
    "loader = CSVLoader(dataset_path='amostras_30000.csv',\n",
    "                   smiles_field='smiles',\n",
    "                   id_field='ids',\n",
    "                   mode='auto', shard_size=30000)\n",
    "# create the dataset\n",
    "csv_dataset = loader.create_dataset(sep=',', header=0)"
   ]
  },
  {
   "cell_type": "code",
   "execution_count": null,
   "id": "79c5648d",
   "metadata": {},
   "outputs": [],
   "source": [
    "import numpy as np\n",
    "import networkx as nx\n",
    "import matplotlib.pyplot as plt\n",
    "import pickle \n",
    "\n",
    "\n",
    "def generate_mst(similarities_matrix, labels):\n",
    "\n",
    "    # Step 2: Convert the Correlation Matrix to a Distance Matrix\n",
    "    distance_matrix = 1 - similarities_matrix\n",
    "\n",
    "    # Create a graph from the distance matrix\n",
    "    G = nx.Graph()\n",
    "    num_nodes = distance_matrix.shape[0]\n",
    "    for i in range(num_nodes):\n",
    "        for j in range(i + 1, num_nodes):\n",
    "            G.add_edge(i, j, weight=distance_matrix[i, j])\n",
    "\n",
    "    # Compute the minimum spanning tree without inversion\n",
    "    mst_without_inversion = nx.minimum_spanning_tree(G)\n",
    "\n",
    "    # Set the labels for the nodes in the graph\n",
    "    for node in mst_without_inversion.nodes():\n",
    "        if node in labels:\n",
    "            mst_without_inversion.nodes[node]['label'] = labels[node]\n",
    "        else:\n",
    "            mst_without_inversion.nodes[node]['label'] = str(node)\n",
    "\n",
    "    return mst_without_inversion"
   ]
  },
  {
   "cell_type": "code",
   "execution_count": null,
   "id": "afae09b4",
   "metadata": {},
   "outputs": [],
   "source": [
    "def fingerprint_pipeline(dataset, fingerprints, labels, random_state=42):\n",
    "    \n",
    "    ''' \n",
    "dataset: \n",
    "fingerprints: lista de featurizes \n",
    "labels: dicionario com os métodos \n",
    "random_state: random seed \n",
    "\n",
    "'''\n",
    "    # Importações \n",
    "    import numpy as np\n",
    "\n",
    "    similarity_matrices = [] #Lista onde vamos guardar os vetores de similaridade\n",
    "    i=0\n",
    "    # Aplicar uma a uma asfingerprints ao dataset\n",
    "    for featurizer in fingerprints:\n",
    "        featurizer.featurize(dataset, inplace=True)\n",
    "        dataset.to_csv(f\"{featurizer.__class__.__name__}_fp.csv\")\n",
    "\n",
    "        # Seleciona aleatoriamente as moléculas a utilizar\n",
    "        np.random.seed(random_state)\n",
    "\n",
    "        similarities = compute_all_similarities(dataset) # Calcula todas as similaridades entre as moleculas \n",
    "        similarities = normalize_similarity_matrix(similarities) # Normaliza esses valores\n",
    "\n",
    "        similarity_matrices.append(similarities) # Guarda as similaridades de cada método\n",
    "\n",
    "    similarities = np.concatenate(similarity_matrices, axis=0) # Junta tudo numa matriz\n",
    "        \n",
    "    \n",
    "    correlation_matrix = np.corrcoef(similarities) # Calcula a correlation entre os métodos de fingerprint, quão semelhantes são os vetores gerados por cada método\n",
    "    with open(\"correlation_matrix.pkl\",\"wb\") as f:\n",
    "    \n",
    "        mst = generate_mst(similarities, labels) # Chama a função generate_mst que vai usar a correlation matrix para gerar a MST\n",
    "    \n",
    "    with open(\"similarities.pkl\", \"wb\") as f:\n",
    "        pickle.dump(similarities, f)\n",
    "\n",
    "\n",
    "    \n",
    "\n",
    "    \n",
    "\n",
    "    return correlation_matrix, mst"
   ]
  }
 ],
 "metadata": {
  "kernelspec": {
   "display_name": "Project",
   "language": "python",
   "name": "python3"
  },
  "language_info": {
   "codemirror_mode": {
    "name": "ipython",
    "version": 3
   },
   "file_extension": ".py",
   "mimetype": "text/x-python",
   "name": "python",
   "nbconvert_exporter": "python",
   "pygments_lexer": "ipython3",
   "version": "3.11.12"
  }
 },
 "nbformat": 4,
 "nbformat_minor": 5
}
